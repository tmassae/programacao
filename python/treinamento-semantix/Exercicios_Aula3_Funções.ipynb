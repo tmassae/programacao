{
 "cells": [
  {
   "cell_type": "markdown",
   "metadata": {},
   "source": [
    "<div class= \"alert alert-block alert-info\">\n",
    "<b>Questão 1 - Crie uma função que encontra filtra os números ímpares de uma lista de inteiros e depois os multiplica por 3.</b>\n",
    "</div>"
   ]
  },
  {
   "cell_type": "code",
   "execution_count": 1,
   "metadata": {},
   "outputs": [],
   "source": [
    "from numpy.random import randint\n",
    "from importlib import reload"
   ]
  },
  {
   "cell_type": "code",
   "execution_count": 2,
   "metadata": {},
   "outputs": [],
   "source": [
    "inteiros_15 = list(randint(10,size=15))"
   ]
  },
  {
   "cell_type": "code",
   "execution_count": 3,
   "metadata": {},
   "outputs": [
    {
     "data": {
      "text/plain": [
       "[3, 4, 1, 0, 2, 4, 3, 2, 6, 6, 8, 7, 9, 4, 4]"
      ]
     },
     "execution_count": 3,
     "metadata": {},
     "output_type": "execute_result"
    }
   ],
   "source": [
    "inteiros_15"
   ]
  },
  {
   "cell_type": "code",
   "execution_count": 4,
   "metadata": {},
   "outputs": [],
   "source": [
    "def filtra_impares(lista):\n",
    "    impares = [a for a in lista if a%2 !=0]\n",
    "    \n",
    "    return impares\n",
    "\n",
    "def multiplica_elementos(lista, numero =3):\n",
    "    produto = [a*numero for a in lista]\n",
    "    return produto\n",
    "    "
   ]
  },
  {
   "cell_type": "code",
   "execution_count": 5,
   "metadata": {},
   "outputs": [
    {
     "data": {
      "text/plain": [
       "[3, 1, 3, 7, 9]"
      ]
     },
     "execution_count": 5,
     "metadata": {},
     "output_type": "execute_result"
    }
   ],
   "source": [
    "filtra_impares(inteiros_15)"
   ]
  },
  {
   "cell_type": "code",
   "execution_count": 6,
   "metadata": {},
   "outputs": [
    {
     "data": {
      "text/plain": [
       "[12, 4, 12, 28, 36]"
      ]
     },
     "execution_count": 6,
     "metadata": {},
     "output_type": "execute_result"
    }
   ],
   "source": [
    "multiplica_elementos(filtra_impares(inteiros_15), numero =4)"
   ]
  },
  {
   "cell_type": "markdown",
   "metadata": {},
   "source": [
    "<div class= \"alert alert-block alert-info\">\n",
    "<b>Questão 2 - Crie um módulo que contenha essa função e depois faça o import.</b>\n",
    "</div>"
   ]
  },
  {
   "cell_type": "code",
   "execution_count": 7,
   "metadata": {},
   "outputs": [
    {
     "ename": "ModuleNotFoundError",
     "evalue": "No module named 'filtro_multiplicador'",
     "output_type": "error",
     "traceback": [
      "\u001b[0;31m---------------------------------------------------------------------------\u001b[0m",
      "\u001b[0;31mModuleNotFoundError\u001b[0m                       Traceback (most recent call last)",
      "\u001b[0;32m<ipython-input-7-46c164dda433>\u001b[0m in \u001b[0;36m<module>\u001b[0;34m()\u001b[0m\n\u001b[0;32m----> 1\u001b[0;31m \u001b[0;32mfrom\u001b[0m \u001b[0mfiltro_multiplicador\u001b[0m \u001b[0;32mimport\u001b[0m \u001b[0mfiltragem_multiplica\u001b[0m \u001b[0;32mas\u001b[0m \u001b[0mfm\u001b[0m\u001b[0;34m\u001b[0m\u001b[0;34m\u001b[0m\u001b[0m\n\u001b[0m",
      "\u001b[0;31mModuleNotFoundError\u001b[0m: No module named 'filtro_multiplicador'"
     ]
    }
   ],
   "source": [
    "from filtro_multiplicador import filtragem_multiplica as fm"
   ]
  },
  {
   "cell_type": "code",
   "execution_count": null,
   "metadata": {},
   "outputs": [],
   "source": [
    "fm.filtra_multiplica(inteiros_15)"
   ]
  },
  {
   "cell_type": "markdown",
   "metadata": {},
   "source": [
    "<div class= \"alert alert-block alert-info\">\n",
    "<b>Questão 3 - Crie testes unitários para as funções. </b>\n",
    "</div>"
   ]
  },
  {
   "cell_type": "markdown",
   "metadata": {},
   "source": [
    "Ref: https://docs.python.org/pt-br/3/howto/logging.html"
   ]
  },
  {
   "cell_type": "code",
   "execution_count": null,
   "metadata": {
    "scrolled": true
   },
   "outputs": [],
   "source": [
    "! python -m unittest test.test_filtragem_multiplica"
   ]
  },
  {
   "cell_type": "code",
   "execution_count": null,
   "metadata": {},
   "outputs": [],
   "source": [
    "! python -m unittest discover"
   ]
  },
  {
   "cell_type": "markdown",
   "metadata": {},
   "source": [
    "<div class= \"alert alert-block alert-info\">\n",
    "<b>Questão 4 - Faça com que o módulo gere logs e registre em arquivo.</b>\n",
    "</div>"
   ]
  },
  {
   "cell_type": "code",
   "execution_count": null,
   "metadata": {},
   "outputs": [],
   "source": [
    "reload(fm)"
   ]
  },
  {
   "cell_type": "code",
   "execution_count": null,
   "metadata": {},
   "outputs": [],
   "source": [
    "fm.filtra_multiplica(inteiros_15)"
   ]
  },
  {
   "cell_type": "markdown",
   "metadata": {},
   "source": [
    "<div class= \"alert alert-block alert-info\">\n",
    "<b>Questão 5 - Use Decorators para incluir mensagens de logs nas funções criadas. </b>\n",
    "</div>"
   ]
  },
  {
   "cell_type": "markdown",
   "metadata": {},
   "source": [
    "Ref: https://dev.to/aldo/implementing-logging-in-python-via-decorators-1gje"
   ]
  },
  {
   "cell_type": "code",
   "execution_count": null,
   "metadata": {},
   "outputs": [],
   "source": [
    "import logging\n",
    "import functools\n",
    "\n",
    "\n",
    "def _generate_log(path):\n",
    "    \"\"\"\n",
    "    Create a logger object\n",
    "    :param path: Path of the log file.\n",
    "    :return: Logger object.\n",
    "    \"\"\"\n",
    "    # Create a logger and set the level.\n",
    "    logger = logging.getLogger('LogError')\n",
    "    logger.setLevel(logging.ERROR)\n",
    "\n",
    "    # Create file handler, log format and add the format to file handler\n",
    "    file_handler = logging.FileHandler(path)\n",
    "\n",
    "    # See https://docs.python.org/3/library/logging.html#logrecord-attributes\n",
    "    # for log format attributes.\n",
    "    log_format = '%(levelname)s %(asctime)s %(message)s'\n",
    "    formatter = logging.Formatter(log_format)\n",
    "    file_handler.setFormatter(formatter)\n",
    "\n",
    "    logger.addHandler(file_handler)\n",
    "    return logger\n",
    "\n",
    "\n",
    "def log_error(path='C:\\\\Users\\\\Hader Azzini\\\\Desktop\\\\teste_anaconda/log.error.log'):\n",
    "    \"\"\"\n",
    "    We create a parent function to take arguments\n",
    "    :param path:\n",
    "    :return:\n",
    "    \"\"\"\n",
    "\n",
    "    def error_log(func):\n",
    "\n",
    "        @functools.wraps(func)\n",
    "        def wrapper(*args, **kwargs):\n",
    "\n",
    "            try:\n",
    "                # Execute the called function, in this case `divide()`.\n",
    "                # If it throws an error `Exception` will be called.\n",
    "                # Otherwise it will be execute successfully.\n",
    "                return func(*args, **kwargs)\n",
    "            except Exception as e:\n",
    "                logger = _generate_log(path)\n",
    "                error_msg = 'And error has occurred at /' + func.__name__ + '\\n'\n",
    "                logger.exception(error_msg)\n",
    "\n",
    "                return e  # Or whatever message you want.\n",
    "\n",
    "        return wrapper\n",
    "\n",
    "    return error_log"
   ]
  },
  {
   "cell_type": "code",
   "execution_count": null,
   "metadata": {},
   "outputs": [],
   "source": [
    "@log_error()\n",
    "def divide(num1, num2):\n",
    "    return num1 / num2\n",
    "\n",
    "\n",
    "if __name__ == '__main__':\n",
    "    result = divide(10, 0)\n",
    "    print(result)"
   ]
  }
 ],
 "metadata": {
  "hide_input": false,
  "kernelspec": {
   "display_name": "Python 3",
   "language": "python",
   "name": "python3"
  },
  "language_info": {
   "codemirror_mode": {
    "name": "ipython",
    "version": 3
   },
   "file_extension": ".py",
   "mimetype": "text/x-python",
   "name": "python",
   "nbconvert_exporter": "python",
   "pygments_lexer": "ipython3",
   "version": "3.6.10"
  },
  "toc": {
   "base_numbering": 1,
   "nav_menu": {
    "height": "294px",
    "width": "216px"
   },
   "number_sections": true,
   "sideBar": true,
   "skip_h1_title": false,
   "title_cell": "Table of Contents",
   "title_sidebar": "Contents",
   "toc_cell": false,
   "toc_position": {},
   "toc_section_display": true,
   "toc_window_display": false
  },
  "varInspector": {
   "cols": {
    "lenName": 16,
    "lenType": 16,
    "lenVar": 40
   },
   "kernels_config": {
    "python": {
     "delete_cmd_postfix": "",
     "delete_cmd_prefix": "del ",
     "library": "var_list.py",
     "varRefreshCmd": "print(var_dic_list())"
    },
    "r": {
     "delete_cmd_postfix": ") ",
     "delete_cmd_prefix": "rm(",
     "library": "var_list.r",
     "varRefreshCmd": "cat(var_dic_list()) "
    }
   },
   "types_to_exclude": [
    "module",
    "function",
    "builtin_function_or_method",
    "instance",
    "_Feature"
   ],
   "window_display": false
  }
 },
 "nbformat": 4,
 "nbformat_minor": 2
}
